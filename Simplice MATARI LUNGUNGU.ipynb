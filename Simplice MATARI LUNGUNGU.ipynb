{
 "cells": [
  {
   "cell_type": "markdown",
   "id": "e0a76bca",
   "metadata": {},
   "source": [
    "# 1. Importation des données et bibliothèques nécessaires"
   ]
  },
  {
   "cell_type": "code",
   "execution_count": 1,
   "id": "9a12a43d",
   "metadata": {},
   "outputs": [],
   "source": [
    "import pandas as pd\n",
    "import numpy as np\n",
    "import matplotlib.pyplot as plt\n",
    "import matplotlib.ticker as ticker\n",
    "import seaborn as sns\n",
    "import itertools\n",
    "%matplotlib inline\n",
    "\n",
    "from sklearn import preprocessing\n",
    "from sklearn.cluster import KMeans\n",
    "from sklearn.datasets import make_classification\n",
    "\n",
    "from sklearn.linear_model import LogisticRegression\n",
    "from sklearn.model_selection import train_test_split\n",
    "from sklearn.preprocessing import StandardScaler\n",
    "from sklearn.metrics import confusion_matrix\n",
    "from sklearn.metrics import classification_report\n",
    "from matplotlib.colors import ListedColormap\n",
    "from matplotlib.ticker import NullFormatter\n",
    "from matplotlib import pyplot as plt\n",
    "from mpl_toolkits.mplot3d import Axes3D\n",
    "\n",
    "\n",
    "vin = pd.read_excel('C:/Users/Simplice/Documents/dataset_simpliceMatariLungungu.xlsx')"
   ]
  },
  {
   "cell_type": "code",
   "execution_count": 2,
   "id": "fe6eddd2",
   "metadata": {},
   "outputs": [
    {
     "data": {
      "text/html": [
       "<div>\n",
       "<style scoped>\n",
       "    .dataframe tbody tr th:only-of-type {\n",
       "        vertical-align: middle;\n",
       "    }\n",
       "\n",
       "    .dataframe tbody tr th {\n",
       "        vertical-align: top;\n",
       "    }\n",
       "\n",
       "    .dataframe thead th {\n",
       "        text-align: right;\n",
       "    }\n",
       "</style>\n",
       "<table border=\"1\" class=\"dataframe\">\n",
       "  <thead>\n",
       "    <tr style=\"text-align: right;\">\n",
       "      <th></th>\n",
       "      <th>ID_individu</th>\n",
       "      <th>fixed_acidity</th>\n",
       "      <th>volatile_acidity</th>\n",
       "      <th>citric_acid</th>\n",
       "      <th>residual_sugar</th>\n",
       "      <th>chlorides</th>\n",
       "      <th>free_sulfur_dioxide</th>\n",
       "      <th>total_sulfur_dioxide</th>\n",
       "      <th>density</th>\n",
       "      <th>pH</th>\n",
       "      <th>sulphates</th>\n",
       "      <th>alcohol</th>\n",
       "      <th>quality</th>\n",
       "    </tr>\n",
       "  </thead>\n",
       "  <tbody>\n",
       "    <tr>\n",
       "      <th>0</th>\n",
       "      <td>0</td>\n",
       "      <td>7.0</td>\n",
       "      <td>0.270</td>\n",
       "      <td>0.36</td>\n",
       "      <td>20.7</td>\n",
       "      <td>0.045</td>\n",
       "      <td>45.0</td>\n",
       "      <td>170.0</td>\n",
       "      <td>1.00100</td>\n",
       "      <td>3.00</td>\n",
       "      <td>0.45</td>\n",
       "      <td>8.8</td>\n",
       "      <td>6</td>\n",
       "    </tr>\n",
       "    <tr>\n",
       "      <th>1</th>\n",
       "      <td>1</td>\n",
       "      <td>6.3</td>\n",
       "      <td>0.300</td>\n",
       "      <td>0.34</td>\n",
       "      <td>1.6</td>\n",
       "      <td>0.049</td>\n",
       "      <td>14.0</td>\n",
       "      <td>132.0</td>\n",
       "      <td>0.99400</td>\n",
       "      <td>3.30</td>\n",
       "      <td>0.49</td>\n",
       "      <td>9.5</td>\n",
       "      <td>6</td>\n",
       "    </tr>\n",
       "    <tr>\n",
       "      <th>2</th>\n",
       "      <td>2</td>\n",
       "      <td>8.1</td>\n",
       "      <td>0.280</td>\n",
       "      <td>0.40</td>\n",
       "      <td>6.9</td>\n",
       "      <td>0.050</td>\n",
       "      <td>30.0</td>\n",
       "      <td>97.0</td>\n",
       "      <td>0.99510</td>\n",
       "      <td>3.26</td>\n",
       "      <td>0.44</td>\n",
       "      <td>10.1</td>\n",
       "      <td>6</td>\n",
       "    </tr>\n",
       "    <tr>\n",
       "      <th>3</th>\n",
       "      <td>3</td>\n",
       "      <td>7.2</td>\n",
       "      <td>0.230</td>\n",
       "      <td>0.32</td>\n",
       "      <td>8.5</td>\n",
       "      <td>0.058</td>\n",
       "      <td>47.0</td>\n",
       "      <td>186.0</td>\n",
       "      <td>0.99560</td>\n",
       "      <td>3.19</td>\n",
       "      <td>0.40</td>\n",
       "      <td>9.9</td>\n",
       "      <td>6</td>\n",
       "    </tr>\n",
       "    <tr>\n",
       "      <th>4</th>\n",
       "      <td>4</td>\n",
       "      <td>7.2</td>\n",
       "      <td>0.230</td>\n",
       "      <td>0.32</td>\n",
       "      <td>8.5</td>\n",
       "      <td>0.058</td>\n",
       "      <td>47.0</td>\n",
       "      <td>186.0</td>\n",
       "      <td>0.99560</td>\n",
       "      <td>3.19</td>\n",
       "      <td>0.40</td>\n",
       "      <td>9.9</td>\n",
       "      <td>6</td>\n",
       "    </tr>\n",
       "    <tr>\n",
       "      <th>...</th>\n",
       "      <td>...</td>\n",
       "      <td>...</td>\n",
       "      <td>...</td>\n",
       "      <td>...</td>\n",
       "      <td>...</td>\n",
       "      <td>...</td>\n",
       "      <td>...</td>\n",
       "      <td>...</td>\n",
       "      <td>...</td>\n",
       "      <td>...</td>\n",
       "      <td>...</td>\n",
       "      <td>...</td>\n",
       "      <td>...</td>\n",
       "    </tr>\n",
       "    <tr>\n",
       "      <th>6492</th>\n",
       "      <td>1594</td>\n",
       "      <td>6.2</td>\n",
       "      <td>0.600</td>\n",
       "      <td>0.08</td>\n",
       "      <td>2.0</td>\n",
       "      <td>0.090</td>\n",
       "      <td>32.0</td>\n",
       "      <td>44.0</td>\n",
       "      <td>0.99490</td>\n",
       "      <td>3.45</td>\n",
       "      <td>0.58</td>\n",
       "      <td>10.5</td>\n",
       "      <td>5</td>\n",
       "    </tr>\n",
       "    <tr>\n",
       "      <th>6493</th>\n",
       "      <td>1595</td>\n",
       "      <td>5.9</td>\n",
       "      <td>0.550</td>\n",
       "      <td>0.10</td>\n",
       "      <td>2.2</td>\n",
       "      <td>0.062</td>\n",
       "      <td>39.0</td>\n",
       "      <td>51.0</td>\n",
       "      <td>0.99512</td>\n",
       "      <td>3.52</td>\n",
       "      <td>0.76</td>\n",
       "      <td>11.2</td>\n",
       "      <td>6</td>\n",
       "    </tr>\n",
       "    <tr>\n",
       "      <th>6494</th>\n",
       "      <td>1596</td>\n",
       "      <td>6.3</td>\n",
       "      <td>0.510</td>\n",
       "      <td>0.13</td>\n",
       "      <td>2.3</td>\n",
       "      <td>0.076</td>\n",
       "      <td>29.0</td>\n",
       "      <td>40.0</td>\n",
       "      <td>0.99574</td>\n",
       "      <td>3.42</td>\n",
       "      <td>0.75</td>\n",
       "      <td>11.0</td>\n",
       "      <td>6</td>\n",
       "    </tr>\n",
       "    <tr>\n",
       "      <th>6495</th>\n",
       "      <td>1597</td>\n",
       "      <td>5.9</td>\n",
       "      <td>0.645</td>\n",
       "      <td>0.12</td>\n",
       "      <td>2.0</td>\n",
       "      <td>0.075</td>\n",
       "      <td>32.0</td>\n",
       "      <td>44.0</td>\n",
       "      <td>0.99547</td>\n",
       "      <td>3.57</td>\n",
       "      <td>0.71</td>\n",
       "      <td>10.2</td>\n",
       "      <td>5</td>\n",
       "    </tr>\n",
       "    <tr>\n",
       "      <th>6496</th>\n",
       "      <td>1598</td>\n",
       "      <td>6.0</td>\n",
       "      <td>0.310</td>\n",
       "      <td>0.47</td>\n",
       "      <td>3.6</td>\n",
       "      <td>0.067</td>\n",
       "      <td>18.0</td>\n",
       "      <td>42.0</td>\n",
       "      <td>0.99549</td>\n",
       "      <td>3.39</td>\n",
       "      <td>0.66</td>\n",
       "      <td>11.0</td>\n",
       "      <td>6</td>\n",
       "    </tr>\n",
       "  </tbody>\n",
       "</table>\n",
       "<p>6497 rows × 13 columns</p>\n",
       "</div>"
      ],
      "text/plain": [
       "      ID_individu  fixed_acidity  volatile_acidity  citric_acid  \\\n",
       "0               0            7.0             0.270         0.36   \n",
       "1               1            6.3             0.300         0.34   \n",
       "2               2            8.1             0.280         0.40   \n",
       "3               3            7.2             0.230         0.32   \n",
       "4               4            7.2             0.230         0.32   \n",
       "...           ...            ...               ...          ...   \n",
       "6492         1594            6.2             0.600         0.08   \n",
       "6493         1595            5.9             0.550         0.10   \n",
       "6494         1596            6.3             0.510         0.13   \n",
       "6495         1597            5.9             0.645         0.12   \n",
       "6496         1598            6.0             0.310         0.47   \n",
       "\n",
       "      residual_sugar  chlorides  free_sulfur_dioxide  total_sulfur_dioxide  \\\n",
       "0               20.7      0.045                 45.0                 170.0   \n",
       "1                1.6      0.049                 14.0                 132.0   \n",
       "2                6.9      0.050                 30.0                  97.0   \n",
       "3                8.5      0.058                 47.0                 186.0   \n",
       "4                8.5      0.058                 47.0                 186.0   \n",
       "...              ...        ...                  ...                   ...   \n",
       "6492             2.0      0.090                 32.0                  44.0   \n",
       "6493             2.2      0.062                 39.0                  51.0   \n",
       "6494             2.3      0.076                 29.0                  40.0   \n",
       "6495             2.0      0.075                 32.0                  44.0   \n",
       "6496             3.6      0.067                 18.0                  42.0   \n",
       "\n",
       "      density    pH  sulphates  alcohol  quality  \n",
       "0     1.00100  3.00       0.45      8.8        6  \n",
       "1     0.99400  3.30       0.49      9.5        6  \n",
       "2     0.99510  3.26       0.44     10.1        6  \n",
       "3     0.99560  3.19       0.40      9.9        6  \n",
       "4     0.99560  3.19       0.40      9.9        6  \n",
       "...       ...   ...        ...      ...      ...  \n",
       "6492  0.99490  3.45       0.58     10.5        5  \n",
       "6493  0.99512  3.52       0.76     11.2        6  \n",
       "6494  0.99574  3.42       0.75     11.0        6  \n",
       "6495  0.99547  3.57       0.71     10.2        5  \n",
       "6496  0.99549  3.39       0.66     11.0        6  \n",
       "\n",
       "[6497 rows x 13 columns]"
      ]
     },
     "execution_count": 2,
     "metadata": {},
     "output_type": "execute_result"
    }
   ],
   "source": [
    "#Affichage de données\n",
    "data=pd.DataFrame(vin)\n",
    "data"
   ]
  },
  {
   "cell_type": "markdown",
   "id": "8afb5a81",
   "metadata": {},
   "source": [
    "# 2. Affichage des caractéristiques statistiques des données"
   ]
  },
  {
   "cell_type": "code",
   "execution_count": 3,
   "id": "485530c9",
   "metadata": {},
   "outputs": [
    {
     "name": "stdout",
     "output_type": "stream",
     "text": [
      "       ID_individu  fixed_acidity  volatile_acidity  citric_acid  \\\n",
      "count  6497.000000    6497.000000       6497.000000  6497.000000   \n",
      "mean   2042.535632       7.215307          0.339666     0.318633   \n",
      "std    1436.926393       1.296434          0.164636     0.145318   \n",
      "min       0.000000       3.800000          0.080000     0.000000   \n",
      "25%     812.000000       6.400000          0.230000     0.250000   \n",
      "50%    1649.000000       7.000000          0.290000     0.310000   \n",
      "75%    3273.000000       7.700000          0.400000     0.390000   \n",
      "max    4897.000000      15.900000          1.580000     1.660000   \n",
      "\n",
      "       residual_sugar    chlorides  free_sulfur_dioxide  total_sulfur_dioxide  \\\n",
      "count     6497.000000  6497.000000          6497.000000           6497.000000   \n",
      "mean         5.443235     0.056034            30.525319            115.744574   \n",
      "std          4.757804     0.035034            17.749400             56.521855   \n",
      "min          0.600000     0.009000             1.000000              6.000000   \n",
      "25%          1.800000     0.038000            17.000000             77.000000   \n",
      "50%          3.000000     0.047000            29.000000            118.000000   \n",
      "75%          8.100000     0.065000            41.000000            156.000000   \n",
      "max         65.800000     0.611000           289.000000            440.000000   \n",
      "\n",
      "           density           pH    sulphates      alcohol      quality  \n",
      "count  6497.000000  6497.000000  6497.000000  6497.000000  6497.000000  \n",
      "mean      0.994697     3.218501     0.531268    10.491801     5.818378  \n",
      "std       0.002999     0.160787     0.148806     1.192712     0.873255  \n",
      "min       0.987110     2.720000     0.220000     8.000000     3.000000  \n",
      "25%       0.992340     3.110000     0.430000     9.500000     5.000000  \n",
      "50%       0.994890     3.210000     0.510000    10.300000     6.000000  \n",
      "75%       0.996990     3.320000     0.600000    11.300000     6.000000  \n",
      "max       1.038980     4.010000     2.000000    14.900000     9.000000  \n"
     ]
    }
   ],
   "source": [
    "print(data.describe())"
   ]
  },
  {
   "cell_type": "markdown",
   "id": "92a23762",
   "metadata": {},
   "source": [
    "# 3. Segmentation de l'ensemble de données en 10 classes à l'aide de K-means"
   ]
  },
  {
   "cell_type": "code",
   "execution_count": 4,
   "id": "f724461f",
   "metadata": {},
   "outputs": [
    {
     "data": {
      "image/png": "[encoded data removed]",
      "text/plain": [
       "<Figure size 432x288 with 1 Axes>"
      ]
     },
     "metadata": {
      "needs_background": "light"
     },
     "output_type": "display_data"
    },
    {
     "name": "stdout",
     "output_type": "stream",
     "text": [
      "None\n",
      "[[3.58350000e+03 6.70867925e+00 2.74462264e-01 3.04000000e-01\n",
      "  6.69443396e+00 4.23245283e-02 3.57556604e+01 1.30833962e+02\n",
      "  9.93307000e-01 3.14926415e+00 4.87811321e-01 1.09515094e+01\n",
      "  6.03018868e+00]\n",
      " [1.44729152e+03 7.32317802e+00 3.97395460e-01 3.29330944e-01\n",
      "  4.24868578e+00 6.13464755e-02 2.69169654e+01 1.02047790e+02\n",
      "  9.94966774e-01 3.26443250e+00 5.37228196e-01 1.05310036e+01\n",
      "  5.74432497e+00]\n",
      " [2.51400000e+03 7.00951941e+00 2.82190388e-01 3.11312384e-01\n",
      "  6.72892791e+00 4.66580407e-02 3.61025878e+01 1.47561922e+02\n",
      "  9.94724991e-01 3.21822551e+00 5.15822551e-01 1.02336414e+01\n",
      "  5.77264325e+00]\n",
      " [6.10252132e+02 8.03885505e+00 4.09470158e-01 3.33861145e-01\n",
      "  4.71169306e+00 6.87235079e-02 2.54506699e+01 9.78897686e+01\n",
      "  9.96282887e-01 3.23764921e+00 5.78684531e-01 1.01803898e+01\n",
      "  5.70401949e+00]\n",
      " [4.63600000e+03 6.26902486e+00 2.97944551e-01 3.09349904e-01\n",
      "  6.09512428e+00 4.41242830e-02 3.43652008e+01 1.28326004e+02\n",
      "  9.93016453e-01 3.19407266e+00 4.96386233e-01 1.08910134e+01\n",
      "  5.86615679e+00]\n",
      " [3.05150000e+03 6.66441948e+00 2.54456929e-01 3.53071161e-01\n",
      "  5.65730337e+00 4.07602996e-02 3.55093633e+01 1.26662921e+02\n",
      "  9.92839757e-01 3.16202247e+00 4.77509363e-01 1.10176030e+01\n",
      "  6.04681648e+00]\n",
      " [1.97549440e+03 7.30130597e+00 2.77686567e-01 3.24029851e-01\n",
      "  7.25111940e+00 4.88955224e-02 3.56175373e+01 1.48422575e+02\n",
      "  9.95357239e-01 3.20093284e+00 4.87500000e-01 1.01091418e+01\n",
      "  5.68097015e+00]\n",
      " [4.11150000e+03 6.58821293e+00 2.77794677e-01 2.99904943e-01\n",
      "  6.86872624e+00 4.90456274e-02 3.54629278e+01 1.29081749e+02\n",
      "  9.93575846e-01 3.14397338e+00 4.89695817e-01 1.06398859e+01\n",
      "  5.87452471e+00]\n",
      " [1.02500835e+03 7.63568019e+00 3.77064439e-01 3.09773270e-01\n",
      "  3.88979714e+00 6.35381862e-02 2.43263723e+01 8.76557279e+01\n",
      "  9.95089558e-01 3.27093079e+00 5.69904535e-01 1.06297136e+01\n",
      "  5.92840095e+00]\n",
      " [2.02250308e+02 7.62712700e+00 4.15832306e-01 3.07669544e-01\n",
      "  4.66572133e+00 7.21516646e-02 2.63273736e+01 1.00343403e+02\n",
      "  9.95891739e-01 3.25585697e+00 5.89679408e-01 1.00490752e+01\n",
      "  5.66214550e+00]]\n"
     ]
    }
   ],
   "source": [
    "kmeans= KMeans(n_clusters=10)\n",
    "kmeans.fit(vin)\n",
    "colors= np.array(['red','green','blue','purple','gray','fuchsia','navy','olive','yellow','aqua'])\n",
    "plt.scatter(vin.ID_individu,vin.fixed_acidity,c=colors[kmeans.labels_],s=20)\n",
    "plt.scatter(kmeans.cluster_centers_[:,0],kmeans.cluster_centers_ [:,1],c='black',s=80)\n",
    "print(plt.show())\n",
    "\n",
    "print(kmeans.cluster_centers_)"
   ]
  },
  {
   "cell_type": "code",
   "execution_count": 5,
   "id": "8aa842da",
   "metadata": {},
   "outputs": [
    {
     "data": {
      "image/png": "[encoded data removed]",
      "text/plain": [
       "<Figure size 432x288 with 1 Axes>"
      ]
     },
     "metadata": {
      "needs_background": "light"
     },
     "output_type": "display_data"
    },
    {
     "name": "stdout",
     "output_type": "stream",
     "text": [
      "None\n",
      "143575623.74218667\n"
     ]
    }
   ],
   "source": [
    "colors= np.array(['red','green','blue','purple','gray','fuchsia','navy','olive','yellow','aqua'])\n",
    "plt.scatter(vin.ID_individu,vin.volatile_acidity,c=colors[kmeans.labels_],s=20)\n",
    "plt.scatter(kmeans.cluster_centers_[:,0],kmeans.cluster_centers_ [:,2],c='black',s=80)\n",
    "print(plt.show())\n",
    "\n",
    "print(kmeans.inertia_)"
   ]
  },
  {
   "cell_type": "markdown",
   "id": "86217acb",
   "metadata": {},
   "source": [
    "# 5. Représentation graphique des classes dans un graphique bidimensionnel"
   ]
  },
  {
   "cell_type": "markdown",
   "id": "79612984",
   "metadata": {},
   "source": [
    "En utilisant l'Analyse à Composante Principale pour la réduction de la dimensionnalité)"
   ]
  },
  {
   "cell_type": "code",
   "execution_count": 6,
   "id": "91344596",
   "metadata": {},
   "outputs": [
    {
     "data": {
      "text/plain": [
       "array([9, 9, 9, ..., 1, 1, 1])"
      ]
     },
     "execution_count": 6,
     "metadata": {},
     "output_type": "execute_result"
    }
   ],
   "source": [
    "kmeans.labels_"
   ]
  },
  {
   "cell_type": "code",
   "execution_count": 7,
   "id": "9d9af54f",
   "metadata": {},
   "outputs": [],
   "source": [
    "from sklearn.decomposition import PCA\n",
    "\n",
    "#Creation du modèle\n",
    "modele = PCA(n_components=2)\n",
    "\n",
    "#Creation des données réduites\n",
    "x_reduced=modele.fit_transform(vin)"
   ]
  },
  {
   "cell_type": "code",
   "execution_count": 8,
   "id": "cecdfaac",
   "metadata": {},
   "outputs": [
    {
     "data": {
      "text/plain": [
       "<matplotlib.colorbar.Colorbar at 0x1f6b0263fd0>"
      ]
     },
     "execution_count": 8,
     "metadata": {},
     "output_type": "execute_result"
    },
    {
     "data": {
      "image/png": "[encoded data removed]",
      "text/plain": [
       "<Figure size 432x288 with 2 Axes>"
      ]
     },
     "metadata": {
      "needs_background": "light"
     },
     "output_type": "display_data"
    }
   ],
   "source": [
    "#Visualisation de données dans un especes 2D (où c = le nombre de couleurs definies)\n",
    "plt.scatter(x_reduced[:,0],x_reduced[:,1], c=kmeans.labels_)\n",
    "plt.colorbar()"
   ]
  },
  {
   "cell_type": "code",
   "execution_count": 9,
   "id": "82967d49",
   "metadata": {},
   "outputs": [
    {
     "data": {
      "text/plain": [
       "array([[ 9.99947025e-01, -3.54398206e-04, -3.69520306e-05,\n",
       "        -1.63121534e-06,  5.86662666e-04, -7.00805179e-06,\n",
       "         2.83171996e-03,  9.87051120e-03, -7.28410315e-07,\n",
       "        -2.60892399e-05, -2.55489380e-05,  1.63531699e-04,\n",
       "         5.51467474e-05],\n",
       "       [-1.02715194e-02, -5.53450007e-03, -1.01744990e-03,\n",
       "         5.31507170e-04,  3.98985101e-02, -1.32681933e-04,\n",
       "         2.27198674e-01,  9.72934682e-01,  6.79233179e-06,\n",
       "        -5.25444462e-04, -5.81170843e-04, -6.92858046e-03,\n",
       "        -9.42003741e-04]])"
      ]
     },
     "execution_count": 9,
     "metadata": {},
     "output_type": "execute_result"
    }
   ],
   "source": [
    "#Visualisation des axes principaux\n",
    "modele.components_"
   ]
  },
  {
   "cell_type": "markdown",
   "id": "af2dfa3d",
   "metadata": {},
   "source": [
    "# 7. Séparation l’ensemble de données résultant (de la segmentation) en données d’apprentissage et en données de test en utilisant les méthodes suivantes pour la construction des modèles prédictifs :\n",
    "\n",
    "    - La régression logistique\n",
    "    - Le réseau de neurones\n",
    "    - L’arbre de décision (avec la méthode CART)\n",
    "    - L’arbre de décision (avec la méthode ID3)\n",
    "    - La méthode de 𝑘 plus proches voisins."
   ]
  },
  {
   "cell_type": "markdown",
   "id": "63d3cac3",
   "metadata": {},
   "source": [
    "<h3>Arbre de décision</h3>"
   ]
  },
  {
   "cell_type": "code",
   "execution_count": 10,
   "id": "a88f045f",
   "metadata": {},
   "outputs": [],
   "source": [
    "#Importation de bibliotheque pour faire de l'arbre de décision\n",
    "\n",
    "from sklearn.tree import DecisionTreeClassifier\n",
    "from sklearn.model_selection import train_test_split\n",
    "from sklearn import metrics\n",
    "import matplotlib.pyplot as plt\n",
    "import matplotlib.image as mpimg \n",
    "from sklearn import tree"
   ]
  },
  {
   "cell_type": "code",
   "execution_count": 11,
   "id": "c9a53eb0",
   "metadata": {},
   "outputs": [
    {
     "name": "stdout",
     "output_type": "stream",
     "text": [
      "      ID_individu  fixed_acidity  volatile_acidity  citric_acid  \\\n",
      "0               0            7.0             0.270         0.36   \n",
      "1               1            6.3             0.300         0.34   \n",
      "2               2            8.1             0.280         0.40   \n",
      "3               3            7.2             0.230         0.32   \n",
      "4               4            7.2             0.230         0.32   \n",
      "...           ...            ...               ...          ...   \n",
      "6492         1594            6.2             0.600         0.08   \n",
      "6493         1595            5.9             0.550         0.10   \n",
      "6494         1596            6.3             0.510         0.13   \n",
      "6495         1597            5.9             0.645         0.12   \n",
      "6496         1598            6.0             0.310         0.47   \n",
      "\n",
      "      residual_sugar  chlorides  free_sulfur_dioxide  total_sulfur_dioxide  \\\n",
      "0               20.7      0.045                 45.0                 170.0   \n",
      "1                1.6      0.049                 14.0                 132.0   \n",
      "2                6.9      0.050                 30.0                  97.0   \n",
      "3                8.5      0.058                 47.0                 186.0   \n",
      "4                8.5      0.058                 47.0                 186.0   \n",
      "...              ...        ...                  ...                   ...   \n",
      "6492             2.0      0.090                 32.0                  44.0   \n",
      "6493             2.2      0.062                 39.0                  51.0   \n",
      "6494             2.3      0.076                 29.0                  40.0   \n",
      "6495             2.0      0.075                 32.0                  44.0   \n",
      "6496             3.6      0.067                 18.0                  42.0   \n",
      "\n",
      "      density    pH  sulphates  alcohol  \n",
      "0     1.00100  3.00       0.45      8.8  \n",
      "1     0.99400  3.30       0.49      9.5  \n",
      "2     0.99510  3.26       0.44     10.1  \n",
      "3     0.99560  3.19       0.40      9.9  \n",
      "4     0.99560  3.19       0.40      9.9  \n",
      "...       ...   ...        ...      ...  \n",
      "6492  0.99490  3.45       0.58     10.5  \n",
      "6493  0.99512  3.52       0.76     11.2  \n",
      "6494  0.99574  3.42       0.75     11.0  \n",
      "6495  0.99547  3.57       0.71     10.2  \n",
      "6496  0.99549  3.39       0.66     11.0  \n",
      "\n",
      "[6497 rows x 12 columns]\n",
      "      quality\n",
      "0           6\n",
      "1           6\n",
      "2           6\n",
      "3           6\n",
      "4           6\n",
      "...       ...\n",
      "6492        5\n",
      "6493        6\n",
      "6494        6\n",
      "6495        5\n",
      "6496        6\n",
      "\n",
      "[6497 rows x 1 columns]\n"
     ]
    }
   ],
   "source": [
    "#Ajouter les données de test et d'apprentissage dans des variables\n",
    "\n",
    "x=pd.DataFrame(vin,columns=['ID_individu','fixed_acidity','volatile_acidity','citric_acid','residual_sugar','chlorides','free_sulfur_dioxide','total_sulfur_dioxide','density','pH','sulphates','alcohol'])\n",
    "print(x)\n",
    "\n",
    "y=pd.DataFrame(vin,columns=['quality'])\n",
    "print(y)"
   ]
  },
  {
   "cell_type": "code",
   "execution_count": 12,
   "id": "898333f2",
   "metadata": {},
   "outputs": [],
   "source": [
    "#Séparation du dataset en deux parties (partie test et partie apprentissage)\n",
    "\n",
    "from sklearn.model_selection import train_test_split\n",
    "x_train,x_test,y_train,y_test= train_test_split(x,y, test_size=0.2, random_state=3)"
   ]
  },
  {
   "cell_type": "code",
   "execution_count": 13,
   "id": "b199dbfa",
   "metadata": {},
   "outputs": [
    {
     "name": "stdout",
     "output_type": "stream",
     "text": [
      "[5 7 6 6 7 5 7 7 6 6 6 6 5 6 5 6 6 6 5 6 7 5 6 6 5 6 5 5 5 6 5 5 5 5 5 6 6\n",
      " 6 6 5 5 6 6 6 7 5 6 5 6 5 6 5 6 7 6 6 6 5 6 6 6 5 6 7 6 6 5 6 7 7 6 6 5 5\n",
      " 8 6 5 5 7 6 7 5 6 6 5 6 6 5 6 7 6 5 6 5 6 5 7 5 6 6 6 7 6 5 6 5 6 6 5 5 6\n",
      " 5 6 7 5 6 5 6 6 6 6 6 5 6 5 7 5 5 5 6 7 5 6 6 5 5 5 5 5 6 5 7 6 6 6 5 5 5\n",
      " 7 6 5 6 5 6 7 5 6 5 6 5 6 6 6 5 5 6 6 7 6 5 5 6 6 5 6 6 7 5 6 5 5 6 5 6 5\n",
      " 6 6 5 7 6 6 6 6 5 7 6 6 5 7 6]\n",
      "      quality\n",
      "6245        5\n",
      "486         6\n",
      "273         5\n",
      "1993        6\n",
      "885         7\n",
      "...       ...\n",
      "3153        6\n",
      "4239        7\n",
      "5761        5\n",
      "3133        6\n",
      "5055        5\n",
      "\n",
      "[200 rows x 1 columns]\n",
      "Taux du succès de notre modèle d'arbre de décision est 0.5361538461538462\n"
     ]
    }
   ],
   "source": [
    "#Lancement du modèle de prediction en utilisant l'indice de GINI\n",
    "\n",
    "vinsTree=DecisionTreeClassifier(criterion=\"gini\",max_depth=8)\n",
    "vinsTree.fit(x_train,y_train)\n",
    "predTree=vinsTree.predict(x_test)\n",
    "print(predTree[0:200])\n",
    "print(y_test[0:200])\n",
    "\n",
    "print(\"Taux du succès de notre modèle d'arbre de décision est\", metrics.accuracy_score(y_test,predTree))"
   ]
  },
  {
   "cell_type": "code",
   "execution_count": 14,
   "id": "fe000836",
   "metadata": {},
   "outputs": [
    {
     "name": "stdout",
     "output_type": "stream",
     "text": [
      "[5 6 5 6 6 6 6 6 6 6 7 6 5 5 5 6 7 6 6 6 7 6 6 6 6 6 5 6 5 7 5 5 5 6 5 6 6\n",
      " 6 6 5 5 6 6 5 7 5 6 5 6 5 6 5 7 7 5 6 7 6 7 6 6 5 7 7 6 6 5 8 8 6 6 6 5 5\n",
      " 8 6 5 6 6 6 5 6 6 6 5 6 6 5 6 7 5 5 4 5 7 5 6 5 6 5 7 8 6 5 6 5 6 6 5 5 6\n",
      " 5 6 6 5 6 6 6 7 6 6 5 5 5 5 7 6 5 5 5 7 5 7 6 5 6 5 5 5 6 5 4 6 6 6 5 5 5\n",
      " 6 5 5 6 5 6 7 5 6 5 6 6 6 5 6 5 5 6 7 5 4 5 6 6 6 5 6 6 7 6 7 6 5 5 5 5 5\n",
      " 6 6 5 8 6 5 7 6 5 6 7 6 5 7 5]\n",
      "      quality\n",
      "6245        5\n",
      "486         6\n",
      "273         5\n",
      "1993        6\n",
      "885         7\n",
      "...       ...\n",
      "3153        6\n",
      "4239        7\n",
      "5761        5\n",
      "3133        6\n",
      "5055        5\n",
      "\n",
      "[200 rows x 1 columns]\n",
      "Taux du succès de notre modèle d'arbre de décision est 0.5430769230769231\n"
     ]
    }
   ],
   "source": [
    "#Lancement du modèle de prédiction en utilisant l'indice d'ENTROPY\n",
    "\n",
    "vinsTree=DecisionTreeClassifier(criterion=\"entropy\",max_depth=8)\n",
    "vinsTree.fit(x_train,y_train)\n",
    "predTree=vinsTree.predict(x_test)\n",
    "print(predTree[0:200])\n",
    "print(y_test[0:200])\n",
    "\n",
    "print(\"Taux du succès de notre modèle d'arbre de décision est\", metrics.accuracy_score(y_test,predTree))"
   ]
  },
  {
   "cell_type": "code",
   "execution_count": 15,
   "id": "177a10d8",
   "metadata": {},
   "outputs": [
    {
     "name": "stdout",
     "output_type": "stream",
     "text": [
      "Index(['ID_individu', 'fixed_acidity', 'volatile_acidity', 'citric_acid',\n",
      "       'residual_sugar', 'chlorides', 'free_sulfur_dioxide',\n",
      "       'total_sulfur_dioxide', 'density', 'pH', 'sulphates', 'alcohol'],\n",
      "      dtype='object')\n",
      "[[  0   0   1   3   2   0   0]\n",
      " [  0   2  27  19   1   1   0]\n",
      " [  0   5 277 146   9   3   0]\n",
      " [  0   3 134 350  61   3   0]\n",
      " [  0   1  12 116  68  10   0]\n",
      " [  0   0   0  23  12   9   0]\n",
      " [  0   0   0   1   1   0   0]]\n"
     ]
    },
    {
     "data": {
      "image/png": "[encoded data removed]",
      "text/plain": [
       "<Figure size 432x288 with 2 Axes>"
      ]
     },
     "metadata": {
      "needs_background": "light"
     },
     "output_type": "display_data"
    }
   ],
   "source": [
    "#Génération de la matrice de confusion\n",
    "\n",
    "featureNames=x.columns\n",
    "print(featureNames)\n",
    "from sklearn import metrics \n",
    "print(metrics.confusion_matrix(y_test,predTree))\n",
    "\n",
    "import pylab as pl\n",
    "import seaborn as sns\n",
    "labels=['1','2','3','4','5','6','7','8','9','10']\n",
    "ax=plt.subplot(111)\n",
    "sns.heatmap(metrics.confusion_matrix(y_test,predTree),annot=True,ax=ax);\n",
    "plt.ylabel(\"valeurs observées\")\n",
    "plt.xlabel(\"\\n valeurs prédites\")\n",
    "plt.show()"
   ]
  },
  {
   "cell_type": "markdown",
   "id": "26d820bb",
   "metadata": {},
   "source": [
    "<h3>Régression logistique</h3>"
   ]
  },
  {
   "cell_type": "code",
   "execution_count": 16,
   "id": "9d605d69",
   "metadata": {},
   "outputs": [
    {
     "data": {
      "text/plain": [
       "<matplotlib.collections.PathCollection at 0x1f6b046ef10>"
      ]
     },
     "execution_count": 16,
     "metadata": {},
     "output_type": "execute_result"
    },
    {
     "data": {
      "image/png": "[encoded data removed]",
      "text/plain": [
       "<Figure size 432x288 with 1 Axes>"
      ]
     },
     "metadata": {
      "needs_background": "light"
     },
     "output_type": "display_data"
    }
   ],
   "source": [
    "#Afficher le dataset\n",
    "plt.scatter(vin.fixed_acidity, vin.volatile_acidity)"
   ]
  },
  {
   "cell_type": "code",
   "execution_count": 17,
   "id": "2cbf0b55",
   "metadata": {},
   "outputs": [],
   "source": [
    "#Division du dataset en deux parties : partie test et apprentissage\n",
    "\n",
    "x_train,x_test,y_train,y_test= train_test_split(x,y, test_size=0.2, random_state=3)"
   ]
  },
  {
   "cell_type": "code",
   "execution_count": 18,
   "id": "c027ec7f",
   "metadata": {},
   "outputs": [
    {
     "data": {
      "text/plain": [
       "array([[-0.47999491, -0.01321709,  1.92299282, ...,  0.75775128,\n",
       "        -0.94816229, -0.82770763],\n",
       "       [-1.08211052, -0.94723509, -1.0957551 , ...,  1.50408568,\n",
       "        -0.14692661, -0.65990233],\n",
       "       [-1.23106595, -0.48022609,  1.46560677, ...,  0.13580596,\n",
       "        -1.01493193, -1.24722087],\n",
       "       ...,\n",
       "       [-0.3681035 ,  0.4537919 , -0.48590704, ...,  0.01141689,\n",
       "         0.72107871, -0.40819438],\n",
       "       [ 1.89979538, -0.94723509, -1.21772471, ...,  0.63336222,\n",
       "        -0.61431409,  0.59863741],\n",
       "       [ 0.01372591,  1.07647057,  0.88625111, ..., -1.2946683 ,\n",
       "        -1.01493193,  1.6054692 ]])"
      ]
     },
     "execution_count": 18,
     "metadata": {},
     "output_type": "execute_result"
    }
   ],
   "source": [
    "#Mise en echelle des données Test et Entrainement\n",
    "\n",
    "sc=StandardScaler()\n",
    "x_train=sc.fit_transform(x_train)\n",
    "x_test=sc.transform(x_test)\n",
    "x_test"
   ]
  },
  {
   "cell_type": "code",
   "execution_count": 19,
   "id": "c189393a",
   "metadata": {},
   "outputs": [
    {
     "name": "stderr",
     "output_type": "stream",
     "text": [
      "c:\\Users\\Simplice\\Anaconda3\\lib\\site-packages\\sklearn\\utils\\validation.py:993: DataConversionWarning: A column-vector y was passed when a 1d array was expected. Please change the shape of y to (n_samples, ), for example using ravel().\n",
      "  y = column_or_1d(y, warn=True)\n"
     ]
    },
    {
     "data": {
      "text/plain": [
       "LogisticRegression(random_state=0, solver='liblinear')"
      ]
     },
     "execution_count": 19,
     "metadata": {},
     "output_type": "execute_result"
    }
   ],
   "source": [
    "#Construction du modèle\n",
    "\n",
    "classifier=LogisticRegression(random_state=0,solver='liblinear')\n",
    "classifier.fit(x_train, y_train)"
   ]
  },
  {
   "cell_type": "code",
   "execution_count": 20,
   "id": "a7056ead",
   "metadata": {},
   "outputs": [
    {
     "name": "stdout",
     "output_type": "stream",
     "text": [
      "Taux du succès de notre modèle de regression logistique est 0.5392307692307692\n"
     ]
    }
   ],
   "source": [
    "#Faire une nouvelle prediction\n",
    "\n",
    "y_pred=classifier.predict(x_test)\n",
    "classifier.score(x_test,y_test)\n",
    "\n",
    "print(\"Taux du succès de notre modèle de regression logistique est\", classifier.score(x_test,y_test))"
   ]
  },
  {
   "cell_type": "code",
   "execution_count": 21,
   "id": "e8738bd8",
   "metadata": {},
   "outputs": [
    {
     "name": "stdout",
     "output_type": "stream",
     "text": [
      "[[  0   0   2   3   1   0   0]\n",
      " [  0   0  28  22   0   0   0]\n",
      " [  0   0 260 178   2   0   0]\n",
      " [  0   0 132 402  17   0   0]\n",
      " [  0   0  18 150  39   0   0]\n",
      " [  0   0   2  28  14   0   0]\n",
      " [  0   0   0   0   2   0   0]]\n"
     ]
    }
   ],
   "source": [
    "#La matrice de confusion\n",
    "\n",
    "cm=confusion_matrix(y_test,y_pred)\n",
    "print(cm)"
   ]
  },
  {
   "cell_type": "markdown",
   "id": "af2cca2d",
   "metadata": {},
   "source": [
    "<h3> La méthode de 𝑘 plus proches voisins </h3>"
   ]
  },
  {
   "cell_type": "code",
   "execution_count": 22,
   "id": "57a64695",
   "metadata": {},
   "outputs": [
    {
     "data": {
      "text/plain": [
       "6    2836\n",
       "5    2138\n",
       "7    1079\n",
       "4     216\n",
       "8     193\n",
       "3      30\n",
       "9       5\n",
       "Name: quality, dtype: int64"
      ]
     },
     "execution_count": 22,
     "metadata": {},
     "output_type": "execute_result"
    }
   ],
   "source": [
    "#Visualisation\n",
    "vin['quality'].value_counts()"
   ]
  },
  {
   "cell_type": "code",
   "execution_count": 23,
   "id": "45b5102c",
   "metadata": {},
   "outputs": [
    {
     "name": "stdout",
     "output_type": "stream",
     "text": [
      "      ID_individu  fixed_acidity  volatile_acidity  citric_acid  \\\n",
      "0               0            7.0             0.270         0.36   \n",
      "1               1            6.3             0.300         0.34   \n",
      "2               2            8.1             0.280         0.40   \n",
      "3               3            7.2             0.230         0.32   \n",
      "4               4            7.2             0.230         0.32   \n",
      "...           ...            ...               ...          ...   \n",
      "6492         1594            6.2             0.600         0.08   \n",
      "6493         1595            5.9             0.550         0.10   \n",
      "6494         1596            6.3             0.510         0.13   \n",
      "6495         1597            5.9             0.645         0.12   \n",
      "6496         1598            6.0             0.310         0.47   \n",
      "\n",
      "      residual_sugar  chlorides  free_sulfur_dioxide  total_sulfur_dioxide  \\\n",
      "0               20.7      0.045                 45.0                 170.0   \n",
      "1                1.6      0.049                 14.0                 132.0   \n",
      "2                6.9      0.050                 30.0                  97.0   \n",
      "3                8.5      0.058                 47.0                 186.0   \n",
      "4                8.5      0.058                 47.0                 186.0   \n",
      "...              ...        ...                  ...                   ...   \n",
      "6492             2.0      0.090                 32.0                  44.0   \n",
      "6493             2.2      0.062                 39.0                  51.0   \n",
      "6494             2.3      0.076                 29.0                  40.0   \n",
      "6495             2.0      0.075                 32.0                  44.0   \n",
      "6496             3.6      0.067                 18.0                  42.0   \n",
      "\n",
      "      density    pH  sulphates  alcohol  \n",
      "0     1.00100  3.00       0.45      8.8  \n",
      "1     0.99400  3.30       0.49      9.5  \n",
      "2     0.99510  3.26       0.44     10.1  \n",
      "3     0.99560  3.19       0.40      9.9  \n",
      "4     0.99560  3.19       0.40      9.9  \n",
      "...       ...   ...        ...      ...  \n",
      "6492  0.99490  3.45       0.58     10.5  \n",
      "6493  0.99512  3.52       0.76     11.2  \n",
      "6494  0.99574  3.42       0.75     11.0  \n",
      "6495  0.99547  3.57       0.71     10.2  \n",
      "6496  0.99549  3.39       0.66     11.0  \n",
      "\n",
      "[6497 rows x 12 columns]\n",
      "      quality\n",
      "0           6\n",
      "1           6\n",
      "2           6\n",
      "3           6\n",
      "4           6\n",
      "...       ...\n",
      "6492        5\n",
      "6493        6\n",
      "6494        6\n",
      "6495        5\n",
      "6496        6\n",
      "\n",
      "[6497 rows x 1 columns]\n"
     ]
    }
   ],
   "source": [
    "#Ajouter les données de test et d'apprentissage dans des variables\n",
    "x=pd.DataFrame(vin,columns=['ID_individu','fixed_acidity','volatile_acidity','citric_acid','residual_sugar','chlorides','free_sulfur_dioxide','total_sulfur_dioxide','density','pH','sulphates','alcohol'])\n",
    "print(x)\n",
    "\n",
    "y=pd.DataFrame(vin,columns=['quality'])\n",
    "print(y)"
   ]
  },
  {
   "cell_type": "code",
   "execution_count": 24,
   "id": "8c41e35e",
   "metadata": {},
   "outputs": [
    {
     "name": "stdout",
     "output_type": "stream",
     "text": [
      "train set (5197, 12) (5197, 1)\n",
      "test set (1300, 12) (1300, 1)\n"
     ]
    }
   ],
   "source": [
    "#Division du dataset en deux partie: partie test et apprentissage et visualisation\n",
    "x_train,x_test,y_train,y_test= train_test_split(x,y, test_size=0.2, random_state=3)\n",
    "print('train set', x_train.shape, y_train.shape)\n",
    "print('test set', x_test.shape, y_test.shape)"
   ]
  },
  {
   "cell_type": "code",
   "execution_count": 25,
   "id": "85b41f91",
   "metadata": {},
   "outputs": [
    {
     "name": "stderr",
     "output_type": "stream",
     "text": [
      "c:\\Users\\Simplice\\Anaconda3\\lib\\site-packages\\sklearn\\neighbors\\_classification.py:198: DataConversionWarning: A column-vector y was passed when a 1d array was expected. Please change the shape of y to (n_samples,), for example using ravel().\n",
      "  return self._fit(X, y)\n"
     ]
    },
    {
     "data": {
      "text/plain": [
       "KNeighborsClassifier(n_neighbors=7)"
      ]
     },
     "execution_count": 25,
     "metadata": {},
     "output_type": "execute_result"
    }
   ],
   "source": [
    "#Appel de l'algorithme KNN\n",
    "\n",
    "from sklearn.neighbors import KNeighborsClassifier\n",
    "k=7\n",
    "neigh = KNeighborsClassifier(n_neighbors=k).fit(x_train, y_train)\n",
    "neigh"
   ]
  },
  {
   "cell_type": "code",
   "execution_count": 26,
   "id": "2e52b79c",
   "metadata": {},
   "outputs": [
    {
     "data": {
      "text/plain": [
       "array([5, 6, 6, ..., 6, 6, 6], dtype=int64)"
      ]
     },
     "execution_count": 26,
     "metadata": {},
     "output_type": "execute_result"
    }
   ],
   "source": [
    "#Fase de test ou de prediction\n",
    "yhat=neigh.predict(x_test)\n",
    "yhat"
   ]
  },
  {
   "cell_type": "code",
   "execution_count": 27,
   "id": "ad977935",
   "metadata": {},
   "outputs": [
    {
     "name": "stdout",
     "output_type": "stream",
     "text": [
      "Taux du succès de données d'entrennement de notre modèle de KNN est 0.6055416586492207\n",
      "Taux du succès de données de test de notre modèle de KNN est 0.4723076923076923\n"
     ]
    }
   ],
   "source": [
    "#Evaluation (Calcule de taux  de succes)\n",
    "print(\"Taux du succès de données d'entrennement de notre modèle de KNN est\", metrics.accuracy_score(y_train, neigh.predict(x_train)))\n",
    "print(\"Taux du succès de données de test de notre modèle de KNN est\", metrics.accuracy_score(y_test, yhat))"
   ]
  },
  {
   "cell_type": "code",
   "execution_count": 28,
   "id": "bc87edf0",
   "metadata": {},
   "outputs": [
    {
     "name": "stdout",
     "output_type": "stream",
     "text": [
      "[[  0   0   2   3   1   0   0]\n",
      " [  0   1  29  19   1   0   0]\n",
      " [  0   5 213 188  33   1   0]\n",
      " [  0   3 149 344  49   6   0]\n",
      " [  0   1  59  90  55   2   0]\n",
      " [  0   0  10  26   7   1   0]\n",
      " [  0   0   1   0   1   0   0]]\n"
     ]
    }
   ],
   "source": [
    "#Matrice de confusion\n",
    "\n",
    "rd=confusion_matrix(y_test,yhat)\n",
    "print(rd)"
   ]
  }
 ],
 "metadata": {
  "kernelspec": {
   "display_name": "Python 3.8.8 ('base')",
   "language": "python",
   "name": "python3"
  },
  "language_info": {
   "codemirror_mode": {
    "name": "ipython",
    "version": 3
   },
   "file_extension": ".py",
   "mimetype": "text/x-python",
   "name": "python",
   "nbconvert_exporter": "python",
   "pygments_lexer": "ipython3",
   "version": "3.8.8"
  },
  "vscode": {
   "interpreter": {
    "hash": "bc69fe50bcd1ef748ca53c8572372a9929a53c8e51e0bfee8a1a292bb60dbf0b"
   }
  }
 },
 "nbformat": 4,
 "nbformat_minor": 5
}
